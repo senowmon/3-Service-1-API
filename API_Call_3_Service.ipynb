{
  "cells": [
    {
      "cell_type": "markdown",
      "metadata": {
        "id": "view-in-github",
        "colab_type": "text"
      },
      "source": [
        "<a href=\"https://colab.research.google.com/github/senowmon/3-Service-1-API/blob/main/API_Call_3_Service.ipynb\" target=\"_parent\"><img src=\"https://colab.research.google.com/assets/colab-badge.svg\" alt=\"Open In Colab\"/></a>"
      ]
    },
    {
      "cell_type": "code",
      "execution_count": null,
      "id": "ff0d5353",
      "metadata": {
        "id": "ff0d5353"
      },
      "outputs": [],
      "source": [
        "import requests\n",
        "import xmltodict\n",
        "\n",
        "response = requests.post(\"http://localhost:9090/multiplication_cal\", verify=False,json={'A':10,'B':5})"
      ]
    },
    {
      "cell_type": "code",
      "execution_count": null,
      "id": "2b000a8f",
      "metadata": {
        "id": "2b000a8f",
        "outputId": "55e5640f-8685-436c-a920-7ef86423bc70"
      },
      "outputs": [
        {
          "data": {
            "text/plain": [
              "<Response [201]>"
            ]
          },
          "execution_count": 12,
          "metadata": {},
          "output_type": "execute_result"
        }
      ],
      "source": [
        "response"
      ]
    },
    {
      "cell_type": "code",
      "execution_count": null,
      "id": "de7bd0bb",
      "metadata": {
        "id": "de7bd0bb",
        "outputId": "018ba747-d3e2-4fc8-e4b5-b660c90791f8"
      },
      "outputs": [
        {
          "data": {
            "text/plain": [
              "50"
            ]
          },
          "execution_count": 15,
          "metadata": {},
          "output_type": "execute_result"
        }
      ],
      "source": [
        "response.json()"
      ]
    },
    {
      "cell_type": "code",
      "execution_count": null,
      "id": "b677895d",
      "metadata": {
        "id": "b677895d"
      },
      "outputs": [],
      "source": [
        "from zeep import Client\n",
        "import requests\n",
        "import xmltodict\n",
        "import urllib3\n",
        "class Calculator:\n",
        "    #Calculator with 3 service\n",
        "    #Each of service consist of Addition, Multiplication and Division\n",
        "    #Which developed with Java, GOLANG and C# respectively\n",
        "    def addition(self,a, b):\n",
        "        #Java Server using Tomcat Server\n",
        "        #Java talk using XML (with Zeep Library)\n",
        "        client = Client('http://localhost:7102/TestWebService/services/AddService?wsdl')\n",
        "        return client.service.add(a,b)\n",
        "    \n",
        "    def multiplication(self,a, b):\n",
        "        #Implementation with GOLANG Language\n",
        "        #GOLANG talk using JSON\n",
        "        response = requests.post(\"http://localhost:9090/multiplication_cal\", verify=False,json={'A':a,'B':b})\n",
        "        return response.json()\n",
        "    \n",
        "    def division(self,a,b):\n",
        "        #Implementation with C# Language\n",
        "        # C# Language talk using JSON\n",
        "        import requests\n",
        "        urllib3.disable_warnings(urllib3.exceptions.InsecureRequestWarning)\n",
        "        response = requests.post(\"https://localhost:44365/api/test/devided.json\", verify=False, json={\"A\": a,\"B\": b})\n",
        "        return response.json()['total']"
      ]
    },
    {
      "cell_type": "code",
      "execution_count": null,
      "id": "62a6edd5",
      "metadata": {
        "id": "62a6edd5",
        "outputId": "b39708fc-bb54-4804-aa9c-6b84c42509d8"
      },
      "outputs": [
        {
          "name": "stdout",
          "output_type": "stream",
          "text": [
            "Basic Calculator\n",
            "1. Pertambahan\n",
            "2. Perkalian\n",
            "3. Pembagian\n",
            "4. Exit\n",
            "1\n",
            "Input bilangan 1: \n",
            "12\n",
            "Input bilangan 2: \n",
            "5\n",
            "Hasil Pertambahan:  17\n",
            "\n",
            "\n",
            "Basic Calculator\n",
            "1. Pertambahan\n",
            "2. Perkalian\n",
            "3. Pembagian\n",
            "4. Exit\n",
            "2\n",
            "Input bilangan 1: \n",
            "5\n",
            "Input bilangan 2: \n",
            "8\n",
            "Hasil Perkalian:  40\n",
            "\n",
            "\n",
            "Basic Calculator\n",
            "1. Pertambahan\n",
            "2. Perkalian\n",
            "3. Pembagian\n",
            "4. Exit\n",
            "3\n",
            "Input bilangan 1: \n",
            "48\n",
            "Input bilangan 2: \n",
            "8\n",
            "Hasil Pembagian:  6\n",
            "\n",
            "\n",
            "Basic Calculator\n",
            "1. Pertambahan\n",
            "2. Perkalian\n",
            "3. Pembagian\n",
            "4. Exit\n",
            "4\n"
          ]
        }
      ],
      "source": [
        "c = Calculator()\n",
        "choose = [1,2,3]\n",
        "while True:\n",
        "    print('Basic Calculator')\n",
        "    print('1. Pertambahan')\n",
        "    print('2. Perkalian')\n",
        "    print('3. Pembagian')\n",
        "    print('4. Exit')\n",
        "    x = int(input())\n",
        "    if x in(choose):\n",
        "        print('Input bilangan 1: ',sep=' ')\n",
        "        a = int(input())\n",
        "        print('Input bilangan 2: ',sep=' ')\n",
        "        b = int(input())\n",
        "        if x == 1:\n",
        "            print('Hasil Pertambahan: ',c.addition(a,b))\n",
        "        elif x == 2:\n",
        "            print('Hasil Perkalian: ',c.multiplication(a,b))\n",
        "        elif x == 3:\n",
        "            print('Hasil Pembagian: ',c.division(a,b))\n",
        "        for i in range(2):\n",
        "            print()\n",
        "    elif x == 4:\n",
        "        break"
      ]
    },
    {
      "cell_type": "code",
      "execution_count": null,
      "id": "270c6f4d",
      "metadata": {
        "id": "270c6f4d"
      },
      "outputs": [],
      "source": [
        ""
      ]
    },
    {
      "cell_type": "code",
      "execution_count": null,
      "id": "6b903472",
      "metadata": {
        "id": "6b903472"
      },
      "outputs": [],
      "source": [
        ""
      ]
    }
  ],
  "metadata": {
    "kernelspec": {
      "display_name": "Python 3",
      "language": "python",
      "name": "python3"
    },
    "language_info": {
      "codemirror_mode": {
        "name": "ipython",
        "version": 3
      },
      "file_extension": ".py",
      "mimetype": "text/x-python",
      "name": "python",
      "nbconvert_exporter": "python",
      "pygments_lexer": "ipython3",
      "version": "3.6.13"
    },
    "colab": {
      "name": "API_Call_3_Service.ipynb",
      "provenance": [],
      "include_colab_link": true
    }
  },
  "nbformat": 4,
  "nbformat_minor": 5
}